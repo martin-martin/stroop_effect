{
 "cells": [
  {
   "cell_type": "markdown",
   "metadata": {},
   "source": [
    "# P1 - Test a Perceptual Phenomenon (the Stroop-Effect)\n",
    "\n",
    "## Background Information\n",
    "\n",
    ">In a Stroop task, participants are presented with a list of words, with each word displayed in a color of ink. The participant’s task is to say out loud the color of the ink in which the word is printed. The task has two conditions: a congruent words condition, and an incongruent words condition. In the congruent words condition, the words being displayed are color words whose names match the colors in which they are printed. In the incongruent words condition, the words displayed are color words whose names do not match the colors in which they are printed. In each case, we measure the time it takes to name the ink colors in equally-sized lists. Each participant will go through and record a time from each condition."
   ]
  },
  {
   "cell_type": "markdown",
   "metadata": {},
   "source": [
    "## Questions to consider\n",
    "\n",
    "### 1. What is our independent variable? What is our dependent variable?\n",
    "\n",
    "In this task, the **independent variable** is whether the words are displayed in the _congruent_ or the _incongruent words condition_.\n",
    "\n",
    "The **dependent variable** is the _time_ it takes the participant to name the ink colors."
   ]
  },
  {
   "cell_type": "markdown",
   "metadata": {},
   "source": [
    "### 2. What is an appropriate set of hypotheses for this task? What kind of statistical test do you expect to perform? Justify your choices.\n",
    "\n",
    "_Set of hypotheses:_\n",
    "\n",
    "- **0 - the Null-Hypothesis:**\n",
    "There is no difference in the average time that it takes the participants to name the color of the ink, regardless of whether it is being presented to them in the congruent or the incongruent words condition.\n",
    "\n",
    "- **Ha - alternative Hypothesis:**\n",
    "The average time the participants take for naming the ink color is longer in the incongruent words condition than in the congruent words condition.\n"
   ]
  },
  {
   "cell_type": "markdown",
   "metadata": {},
   "source": [
    "\n",
    "### 3. Report some descriptive statistics regarding this dataset. Include at least one measure of central tendency and at least one measure of variability.\n"
   ]
  },
  {
   "cell_type": "code",
   "execution_count": 150,
   "metadata": {
    "collapsed": false
   },
   "outputs": [
    {
     "data": {
      "text/html": [
       "<div style=\"max-height:1000px;max-width:1500px;overflow:auto;\">\n",
       "<table border=\"1\" class=\"dataframe\">\n",
       "  <thead>\n",
       "    <tr style=\"text-align: right;\">\n",
       "      <th></th>\n",
       "      <th>Congruent</th>\n",
       "      <th>Incongruent</th>\n",
       "    </tr>\n",
       "  </thead>\n",
       "  <tbody>\n",
       "    <tr>\n",
       "      <th>0</th>\n",
       "      <td> 12.079</td>\n",
       "      <td> 19.278</td>\n",
       "    </tr>\n",
       "    <tr>\n",
       "      <th>1</th>\n",
       "      <td> 16.791</td>\n",
       "      <td> 18.741</td>\n",
       "    </tr>\n",
       "    <tr>\n",
       "      <th>2</th>\n",
       "      <td>  9.564</td>\n",
       "      <td> 21.214</td>\n",
       "    </tr>\n",
       "    <tr>\n",
       "      <th>3</th>\n",
       "      <td>  8.630</td>\n",
       "      <td> 15.687</td>\n",
       "    </tr>\n",
       "    <tr>\n",
       "      <th>4</th>\n",
       "      <td> 14.669</td>\n",
       "      <td> 22.803</td>\n",
       "    </tr>\n",
       "  </tbody>\n",
       "</table>\n",
       "</div>"
      ],
      "text/plain": [
       "   Congruent  Incongruent\n",
       "0     12.079       19.278\n",
       "1     16.791       18.741\n",
       "2      9.564       21.214\n",
       "3      8.630       15.687\n",
       "4     14.669       22.803"
      ]
     },
     "execution_count": 150,
     "metadata": {},
     "output_type": "execute_result"
    }
   ],
   "source": [
    "# importing the csv file into a pandas dataframe\n",
    "import pandas as pd\n",
    "\n",
    "filename = 'stroopdata.csv'\n",
    "\n",
    "stroop_data = pd.read_csv(filename)\n",
    "# taking a peek at the data\n",
    "stroop_data.head()"
   ]
  },
  {
   "cell_type": "markdown",
   "metadata": {},
   "source": [
    "Taking a look at descriptive statistics for the dataset."
   ]
  },
  {
   "cell_type": "code",
   "execution_count": 151,
   "metadata": {
    "collapsed": false
   },
   "outputs": [
    {
     "data": {
      "text/html": [
       "<div style=\"max-height:1000px;max-width:1500px;overflow:auto;\">\n",
       "<table border=\"1\" class=\"dataframe\">\n",
       "  <thead>\n",
       "    <tr style=\"text-align: right;\">\n",
       "      <th></th>\n",
       "      <th>Congruent</th>\n",
       "      <th>Incongruent</th>\n",
       "    </tr>\n",
       "  </thead>\n",
       "  <tbody>\n",
       "    <tr>\n",
       "      <th>count</th>\n",
       "      <td> 24.000000</td>\n",
       "      <td> 24.000000</td>\n",
       "    </tr>\n",
       "    <tr>\n",
       "      <th>mean</th>\n",
       "      <td> 14.051125</td>\n",
       "      <td> 22.015917</td>\n",
       "    </tr>\n",
       "    <tr>\n",
       "      <th>std</th>\n",
       "      <td>  3.559358</td>\n",
       "      <td>  4.797057</td>\n",
       "    </tr>\n",
       "    <tr>\n",
       "      <th>min</th>\n",
       "      <td>  8.630000</td>\n",
       "      <td> 15.687000</td>\n",
       "    </tr>\n",
       "    <tr>\n",
       "      <th>25%</th>\n",
       "      <td> 11.895250</td>\n",
       "      <td> 18.716750</td>\n",
       "    </tr>\n",
       "    <tr>\n",
       "      <th>50%</th>\n",
       "      <td> 14.356500</td>\n",
       "      <td> 21.017500</td>\n",
       "    </tr>\n",
       "    <tr>\n",
       "      <th>75%</th>\n",
       "      <td> 16.200750</td>\n",
       "      <td> 24.051500</td>\n",
       "    </tr>\n",
       "    <tr>\n",
       "      <th>max</th>\n",
       "      <td> 22.328000</td>\n",
       "      <td> 35.255000</td>\n",
       "    </tr>\n",
       "  </tbody>\n",
       "</table>\n",
       "</div>"
      ],
      "text/plain": [
       "       Congruent  Incongruent\n",
       "count  24.000000    24.000000\n",
       "mean   14.051125    22.015917\n",
       "std     3.559358     4.797057\n",
       "min     8.630000    15.687000\n",
       "25%    11.895250    18.716750\n",
       "50%    14.356500    21.017500\n",
       "75%    16.200750    24.051500\n",
       "max    22.328000    35.255000"
      ]
     },
     "execution_count": 151,
     "metadata": {},
     "output_type": "execute_result"
    }
   ],
   "source": [
    "stroop_stats = stroop_data.describe()\n",
    "stroop_stats"
   ]
  },
  {
   "cell_type": "code",
   "execution_count": 152,
   "metadata": {
    "collapsed": false
   },
   "outputs": [
    {
     "data": {
      "text/html": [
       "<div style=\"max-height:1000px;max-width:1500px;overflow:auto;\">\n",
       "<table border=\"1\" class=\"dataframe\">\n",
       "  <thead>\n",
       "    <tr style=\"text-align: right;\">\n",
       "      <th></th>\n",
       "      <th>Congruent</th>\n",
       "      <th>Incongruent</th>\n",
       "    </tr>\n",
       "  </thead>\n",
       "  <tbody>\n",
       "    <tr>\n",
       "      <th>count</th>\n",
       "      <td> 24.000000</td>\n",
       "      <td> 24.000000</td>\n",
       "    </tr>\n",
       "    <tr>\n",
       "      <th>mean</th>\n",
       "      <td> 14.051125</td>\n",
       "      <td> 22.015917</td>\n",
       "    </tr>\n",
       "    <tr>\n",
       "      <th>std</th>\n",
       "      <td>  3.559358</td>\n",
       "      <td>  4.797057</td>\n",
       "    </tr>\n",
       "    <tr>\n",
       "      <th>min</th>\n",
       "      <td>  8.630000</td>\n",
       "      <td> 15.687000</td>\n",
       "    </tr>\n",
       "    <tr>\n",
       "      <th>25%</th>\n",
       "      <td> 11.895250</td>\n",
       "      <td> 18.716750</td>\n",
       "    </tr>\n",
       "    <tr>\n",
       "      <th>50%</th>\n",
       "      <td> 14.356500</td>\n",
       "      <td> 21.017500</td>\n",
       "    </tr>\n",
       "    <tr>\n",
       "      <th>75%</th>\n",
       "      <td> 16.200750</td>\n",
       "      <td> 24.051500</td>\n",
       "    </tr>\n",
       "    <tr>\n",
       "      <th>max</th>\n",
       "      <td> 22.328000</td>\n",
       "      <td> 35.255000</td>\n",
       "    </tr>\n",
       "    <tr>\n",
       "      <th>range</th>\n",
       "      <td> 13.698000</td>\n",
       "      <td> 19.568000</td>\n",
       "    </tr>\n",
       "  </tbody>\n",
       "</table>\n",
       "</div>"
      ],
      "text/plain": [
       "       Congruent  Incongruent\n",
       "count  24.000000    24.000000\n",
       "mean   14.051125    22.015917\n",
       "std     3.559358     4.797057\n",
       "min     8.630000    15.687000\n",
       "25%    11.895250    18.716750\n",
       "50%    14.356500    21.017500\n",
       "75%    16.200750    24.051500\n",
       "max    22.328000    35.255000\n",
       "range  13.698000    19.568000"
      ]
     },
     "execution_count": 152,
     "metadata": {},
     "output_type": "execute_result"
    }
   ],
   "source": [
    "# adding 'range' as a second measure of variability\n",
    "range_c = stroop_stats.Congruent['max'] - stroop_stats.Congruent['min']\n",
    "range_ic = stroop_stats.Incongruent['max'] - stroop_stats.Incongruent['min']\n",
    "\n",
    "range_df = pd.DataFrame({'Congruent' : pd.Series(range_c, index=['range']), \n",
    "                         'Incongruent' : pd.Series(range_ic, index=['range'])})\n",
    "\n",
    "stroop_stats = stroop_stats.append(range_df)\n",
    "stroop_stats"
   ]
  },
  {
   "cell_type": "markdown",
   "metadata": {},
   "source": [
    "#### Measures of Central Tendency\n",
    "\n",
    "The **mean**, as a measure of central tendency, lies at 14 for the _congruent_ and at 22 for the _incongruent_ condition.\n",
    "\n",
    "#### Measures of Variability\n",
    "\n",
    "The **standard deviation** for the _congruent_ condition is 3.6, and for the incongruent condition it is 4.8. This means, that the data points in the incongruent condition group have a wider distribution.\n",
    "\n",
    "This also comes to be visible when looking at the **range**s of the different columns: c = 13.7, ic = 19.6 - The range of the incongruent condition is wider, which means that the data is more spread out.\n",
    "\n",
    "#### Statistical Test: Two-sample t-Test\n",
    "\n",
    "I chose to use the two-sample t-Test for the data, because I want to compare the means between two datasets, to assess whether there is a statistically relevant difference.\n",
    "\n",
    "Also, the dataset is relatively small (n=24), and I assume a normal distribution."
   ]
  },
  {
   "cell_type": "markdown",
   "metadata": {},
   "source": [
    "### 4. Provide one or two visualizations that show the distribution of the sample data. Write one or two sentences noting what you observe about the plot or plots."
   ]
  },
  {
   "cell_type": "code",
   "execution_count": 153,
   "metadata": {
    "collapsed": false
   },
   "outputs": [],
   "source": [
    "def construct_hist(column_header):\n",
    "    %matplotlib inline\n",
    "    import numpy as np\n",
    "    import matplotlib.pyplot as plt\n",
    "\n",
    "    # constructing the histogram\n",
    "    plt.hist(stroop_data[column_header])\n",
    "    plt.xlabel('time in seconds')\n",
    "    plt.ylabel('participants')\n",
    "    plt.axis([8, 36, 0, 7])\n",
    "    plt.title(\"single-variable analysis for {0} words condition\".format(column_header))\n",
    "    plt.grid(True)"
   ]
  },
  {
   "cell_type": "code",
   "execution_count": 154,
   "metadata": {
    "collapsed": false
   },
   "outputs": [
    {
     "data": {
      "image/png": "[encoded data removed]",
      "text/plain": [
       "<matplotlib.figure.Figure at 0x10db58950>"
      ]
     },
     "metadata": {},
     "output_type": "display_data"
    }
   ],
   "source": [
    "column_header = 'Congruent'\n",
    "construct_hist(column_header)"
   ]
  },
  {
   "cell_type": "code",
   "execution_count": 155,
   "metadata": {
    "collapsed": false
   },
   "outputs": [
    {
     "data": {
      "image/png": "[encoded data removed]",
      "text/plain": [
       "<matplotlib.figure.Figure at 0x10cd53b50>"
      ]
     },
     "metadata": {},
     "output_type": "display_data"
    }
   ],
   "source": [
    "column_header = 'Incongruent'\n",
    "construct_hist(column_header)"
   ]
  },
  {
   "cell_type": "markdown",
   "metadata": {},
   "source": [
    "Looking at the histograms for the sample in each different condition on the same axis, shows that in the incongruent words condition the participants used to take generally longer than in the congruent words condition.\n",
    "\n",
    "A normal distribution is not entirely evident, however, since this is such a small dataset, it would be difficult to prove one."
   ]
  },
  {
   "cell_type": "code",
   "execution_count": 156,
   "metadata": {
    "collapsed": false
   },
   "outputs": [
    {
     "data": {
      "text/plain": [
       "<matplotlib.axes._subplots.AxesSubplot at 0x10d5b9bd0>"
      ]
     },
     "execution_count": 156,
     "metadata": {},
     "output_type": "execute_result"
    },
    {
     "data": {
      "image/png": "[encoded data removed]",
      "text/plain": [
       "<matplotlib.figure.Figure at 0x10dbd63d0>"
      ]
     },
     "metadata": {},
     "output_type": "display_data"
    }
   ],
   "source": [
    "stroop_data.plot()"
   ]
  },
  {
   "cell_type": "markdown",
   "metadata": {},
   "source": [
    "Calling a simple `df.plot()` on the Stroop data makes it clear that each participant (#0 - #24) took longer for naming the ink colors when the names did not match the colors.\n",
    "\n",
    "Looking at this visualization makes it seem likely, that the alternative Hypothesis might be on the right path with its suggestion. However, we did not perform a statistical test yet, so the results are only suggestive."
   ]
  },
  {
   "cell_type": "markdown",
   "metadata": {},
   "source": [
    "### 5. Now, perform the statistical test and report your results. What is your confidence level and your critical statistic value? Do you reject the null hypothesis or fail to reject it? Come to a conclusion in terms of the experiment task. Did the results match up with your expectations?"
   ]
  },
  {
   "cell_type": "code",
   "execution_count": 157,
   "metadata": {
    "collapsed": false
   },
   "outputs": [
    {
     "name": "stdout",
     "output_type": "stream",
     "text": [
      "The result of the two-sample t-test are: -6.5322505539\n",
      "degrees of freedom:  23\n"
     ]
    }
   ],
   "source": [
    "import math\n",
    "## assembling the necessary values to perform the t-test\n",
    "mean_congruent = stroop_stats.Congruent['mean']\n",
    "mean_incongruent = stroop_stats.Incongruent['mean']\n",
    "variance_congruent = stroop_stats.Congruent['std']**2\n",
    "variance_incongruent = stroop_stats.Incongruent['std']**2\n",
    "n_congruent = len(stroop_data.Congruent)\n",
    "n_incongruent = len(stroop_data.Incongruent)\n",
    "# Standard Error of the mean\n",
    "SEM = math.sqrt((variance_congruent / n_congruent) + (variance_incongruent / n_incongruent))\n",
    "\n",
    "## calculating the t-stats\n",
    "t = (mean_congruent - mean_incongruent) / SEM\n",
    "print \"The result of the two-sample t-test are:\", t\n",
    "\n",
    "## preparing the values for looking up the table\n",
    "if n_congruent == n_incongruent:\n",
    "    n_sample = n_congruent\n",
    "# degrees of freedom\n",
    "d_f = n_sample - 1\n",
    "print 'degrees of freedom: ', d_f"
   ]
  },
  {
   "cell_type": "markdown",
   "metadata": {},
   "source": [
    "Looking up the table of critical values for our fitting **p-value**:\n",
    "\n",
    "<img src=\"table_of_critical_values.png\">\n",
    "\n",
    "With a _d.f._ of 23 and a t = -6.5322505539, the p-value is way below the **critical t-value** for p = 0.01.\n",
    "Therefore the differences between the two conditions can be considered _statistically relevant_.\n",
    "\n",
    "With the t-value being so much lower than the critical value, this means that the probability, that there is no difference between the two tested conditions, is below 1%."
   ]
  },
  {
   "cell_type": "code",
   "execution_count": 158,
   "metadata": {
    "collapsed": false
   },
   "outputs": [
    {
     "name": "stdout",
     "output_type": "stream",
     "text": [
      "results of the two-tailed dependent t-test: (array(-8.020706944109959), 4.1030005857111556e-08)\n",
      "p-value for the two-tailed dependent t-test: 0.0000000410\n"
     ]
    }
   ],
   "source": [
    "# using the scipy module for performing the t-test and p-value calculations\n",
    "from scipy.stats import ttest_rel\n",
    "\n",
    "cong_values = stroop_data['Congruent'].values\n",
    "incong_values = stroop_data['Incongruent'].values\n",
    "\n",
    "# I chose the 'two-tailed dependent t-test' according to the description in the module:\n",
    "# http://docs.scipy.org/doc/scipy/reference/generated/scipy.stats.ttest_rel.html#scipy.stats.ttest_rel\n",
    "t_test_results = ttest_rel(cong_values, incong_values)\n",
    "print \"results of the two-tailed dependent t-test:\", t_test_results\n",
    "\n",
    "# formatting the p-value to be more intuitive\n",
    "p_value = format(t_test_results[1], '.10f')\n",
    "print 'p-value for the two-tailed dependent t-test:', p_value"
   ]
  },
  {
   "cell_type": "markdown",
   "metadata": {},
   "source": [
    "The **confidence interval** is at 95%. All the results for both of the conditions were taken from the same sample population.\n",
    "\n",
    "---"
   ]
  },
  {
   "cell_type": "markdown",
   "metadata": {},
   "source": [
    "### Conclusion\n",
    "\n",
    "Considering the results of the statistical tests, I reject the Null-Hypothesis in favor of the alternative Hypothesis. The analysis of the data leads to the conclusion, that it took the participants of the Stroop-test significantly longer to identify the ink colors when the names displayed differed from the name of the ink color (incongruent names condition).\n",
    "\n",
    "This is the result that I expected. However, my (very vague) assumption as to why this is the case seems to be incorrect. I thought that this lag is a result from different types of information being processed in different parts of the brain. Even though this might not be completely wrong, there are actually a few theories as to why the Stroop effect occurs:\n",
    "\n",
    "- **Selective attention**: proposes that recognizing colors requires more attention than reading words.\n",
    "- **Automaticity**: We're just way more used to reading than to naming colors, so our brain aims on doing that first.\n",
    "- **Parallel distributed processing**: Which is a bit of a similar theory (and sounds tech-related ; ) - that the brain uses different paths to process different things. The one for reading is strongly developed, while naming colors is not as much. So the trained \"muscle\" is stronger than the less used one.\n",
    "- **Processing speed**: All theories are a bit related, maybe: this one says that word processing is simply faster than recognizing colors.\n",
    "\n",
    "So, all the different theories I read about that aim to explain the Stroop effect do have some things in common it feels, and I found this sentence on the associated Wikipedia page, that I find very interesting:\n",
    "\n",
    ">There are several theories used to explain the Stroop effect and are commonly known as ‘race models’. This is based on the underlying notion that both relevant and irrelevant information are processed in parallel, but “race” to enter the single central processor during response selection.\n"
   ]
  },
  {
   "cell_type": "markdown",
   "metadata": {},
   "source": [
    "### 6. Optional: What do you think is responsible for the effects observed? Can you think of an alternative or similar task that would result in a similar effect? Some research about the problem will be helpful for thinking about these two questions!\n",
    "\n",
    "Personally, I would add to the explanation very essentially the fact, that it's not just about _recognizing_ the colors, but also about _naming_ them.\n",
    "Reading the article, I felt that this is not enough in focus. Because the imminence of formulating something when we are reading it is in my opinion much closer and higher than when looking at a color.\n",
    "\n",
    "Through our days we often look at colors without ever having the thought of wording this to someone (or even ourselves). Reading, however, is very similar to speaking - therefore I think that the path between reading and formulating is a much more direct one than the one between seeing a color and speaking its name.\n",
    "\n",
    "#### Experiments that might yield similar results\n",
    "\n",
    "Since my theory to explain the Stroop effect has maybe a little different aspect than the ones mentioned above, I would try to look for similar situations where the **way of responding** is very much tied to the stimulus received.\n",
    "\n",
    ": )\n",
    "\n",
    "Okay, maybe it's a bit farfetched, but I'll try that one:\n",
    "\n",
    "- Participants are put into a spot where they are comfortably able to catch a thing falling by them.\n",
    "- In one part of the experiment, they are asked to catch those that would break when hitting the floor (e.g. an egg), and let those pass that would not (e.g. a small ball). The size of the objects should be similar, and the participants would know in advance which sorts of items they can expect to turn up, in order to remove some element of surprise).\n",
    "- In the second part of the experiment, they are asked to formulate whether the object will break or not, while they see it falling by\n",
    "- In both cases the response times are recorded and compared.\n",
    "\n",
    "I would find such an experimental set-up interesting, because I can imagine that there is a stronger stimulus-response connection between _a falling object_ and a _physical reaction_ (e.g. trying to catch it), than there is between _a falling object_ and a spoken response.\n",
    "\n",
    "With this set-up I'd aim on assessing whether there might be a similar \"lag\" as there is in the Stroop effect, and then I'd try to research further whether it might be related to the specific _type_ of response to a specific _type_ of stimulus."
   ]
  },
  {
   "cell_type": "markdown",
   "metadata": {
    "collapsed": true
   },
   "source": [
    "## Resources\n",
    "\n",
    "**Stroop-effect**:\n",
    "\n",
    "- https://faculty.washington.edu/chudler/words.html#seffect\n",
    "- https://en.wikipedia.org/wiki/Stroop_effect\n",
    "- https://docs.google.com/document/d/1-OkpZLjG_kX9J6LIQ5IltsqMzVWjh36QpnP2RYpVdPU/pub?embedded=True\n",
    "\n",
    "**statistics**:\n",
    "\n",
    "- https://statistics.laerd.com/statistical-guides/measures-central-tendency-mean-mode-median.php\n",
    "- http://stattrek.com/statistics/dictionary.aspx?definition=confidence_level\n",
    "- http://stattrek.com/statistics/dictionary.aspx?definition=Confidence_interval\n",
    "\n",
    "**t-tests**: \n",
    "\n",
    "- http://www.andrewgray.com/teachers/ttests.htm\n",
    "- http://www2.le.ac.uk/offices/ld/resources/numerical-data/variability\n",
    "- https://explorable.com/students-t-test\n",
    "- http://docs.scipy.org/doc/scipy/reference/generated/scipy.stats.ttest_rel.html#scipy.stats.ttest_rel\n",
    "- http://stackoverflow.com/questions/13404468/t-test-in-pandas-python\n",
    "- http://mathforum.org/library/drmath/view/65472.html\n",
    "- https://explorable.com/students-t-test\n",
    "\n",
    "**python**:\n",
    "\n",
    "- http://stackoverflow.com/questions/25099626/python-convert-scientific-notation-to-float\n",
    "\n",
    "**visualization**:\n",
    "\n",
    "- http://pandas.pydata.org/pandas-docs/stable/visualization.html\n",
    "- http://pandas.pydata.org/pandas-docs/version/0.13.1/visualization.html\n",
    "- http://matplotlib.org/users/pyplot_tutorial.html\n"
   ]
  }
 ],
 "metadata": {
  "kernelspec": {
   "display_name": "Python 2",
   "language": "python",
   "name": "python2"
  },
  "language_info": {
   "codemirror_mode": {
    "name": "ipython",
    "version": 2
   },
   "file_extension": ".py",
   "mimetype": "text/x-python",
   "name": "python",
   "nbconvert_exporter": "python",
   "pygments_lexer": "ipython2",
   "version": "2.7.10"
  }
 },
 "nbformat": 4,
 "nbformat_minor": 0
}
