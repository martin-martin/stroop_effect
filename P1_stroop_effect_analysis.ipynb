{
 "cells": [
  {
   "cell_type": "markdown",
   "metadata": {},
   "source": [
    "# P1 - Test a Perceptual Phenomenon (the Stroop-Effect)\n",
    "\n",
    "## Background Information\n",
    "\n",
    ">In a Stroop task, participants are presented with a list of words, with each word displayed in a color of ink. The participant’s task is to say out loud the color of the ink in which the word is printed. The task has two conditions: a congruent words condition, and an incongruent words condition. In the congruent words condition, the words being displayed are color words whose names match the colors in which they are printed. In the incongruent words condition, the words displayed are color words whose names do not match the colors in which they are printed. In each case, we measure the time it takes to name the ink colors in equally-sized lists. Each participant will go through and record a time from each condition."
   ]
  },
  {
   "cell_type": "markdown",
   "metadata": {},
   "source": [
    "## Questions to consider\n",
    "\n",
    "### 1. What is our independent variable? What is our dependent variable?\n",
    "\n",
    "In this task, the **independent variable** is whether the words are displayed in the _congruent_ or the _incongruent words condition_.\n",
    "\n",
    "The **dependent variable** is the _time_ it takes the participant to name the ink colors."
   ]
  },
  {
   "cell_type": "markdown",
   "metadata": {},
   "source": [
    "### 2. What is an appropriate set of hypotheses for this task? What kind of statistical test do you expect to perform? Justify your choices.\n",
    "\n",
    "#### Set of hypotheses\n",
    "\n",
    "- **\\($H_{0}$\\) - the Null-Hypothesis:**\n",
    "There is no significant difference between the population mean of the time it takes to respond in the congruent words condition \\($\\mu_{c}$\\) as compared to the incongruent words condition \\($\\mu_{i}$\\). Differing times recorded in the sample populations are due to chance.\n",
    "\n",
    "$$H_{0} : \\mu_{c} = \\mu_{i}$$\n",
    "\n",
    "- **\\($H_{1}$\\) - alternative Hypothesis 1:**\n",
    "The population mean \\($\\mu_{c}$\\) of the time taken to correctly name the ink colors when the words match the ink colors is significantly **shorter** than the population mean \\($\\mu_{i}$\\) for the incongruent words condition.\n",
    "\n",
    "$$H_{1} : \\mu_{c} < \\mu_{i}$$\n",
    "\n",
    "- **\\($H_{2}$\\) - alternative Hypothesis 2:**\n",
    "The population mean \\($\\mu_{c}$\\) of the time taken to correctly name the ink colors when the words match the ink colors is significantly **longer** than the population mean \\($\\mu_{i}$\\) for the incongruent words condition.\n",
    "\n",
    "$$H_{2} : \\mu_{c} > \\mu_{i}$$"
   ]
  },
  {
   "cell_type": "markdown",
   "metadata": {},
   "source": [
    "\n",
    "#### Statistical Test: Two-sample dependent t-Test\n",
    "\n",
    "I chose to use the **two-sample dependent t-Test** for the data, because I want to compare the means between two datasets (--> two-sample) that were taken from the same sample population (--> dependent, or 'paired').\n",
    "\n",
    "The **t-test** is the preferred statistical test in this situation (compared to the z-test), because\n",
    "\n",
    "- the dataset is small (n=24), which is below n=30\n",
    "- the statistical values of the population (mean and standard deviation) are both unknown\n",
    "\n",
    "Therefore I will use a t-test, using the statistical values of the samples that I am able to calculate, in order to make predictions about the general population.\n",
    "\n",
    "To conduct the t-test, I will assume the data to have a normal (Gaussian) distribution."
   ]
  },
  {
   "cell_type": "markdown",
   "metadata": {},
   "source": [
    "\n",
    "### 3. Report some descriptive statistics regarding this dataset. Include at least one measure of central tendency and at least one measure of variability.\n"
   ]
  },
  {
   "cell_type": "code",
   "execution_count": 2,
   "metadata": {
    "collapsed": false
   },
   "outputs": [
    {
     "data": {
      "text/html": [
       "<div style=\"max-height:1000px;max-width:1500px;overflow:auto;\">\n",
       "<table border=\"1\" class=\"dataframe\">\n",
       "  <thead>\n",
       "    <tr style=\"text-align: right;\">\n",
       "      <th></th>\n",
       "      <th>Congruent</th>\n",
       "      <th>Incongruent</th>\n",
       "    </tr>\n",
       "  </thead>\n",
       "  <tbody>\n",
       "    <tr>\n",
       "      <th>0</th>\n",
       "      <td> 12.079</td>\n",
       "      <td> 19.278</td>\n",
       "    </tr>\n",
       "    <tr>\n",
       "      <th>1</th>\n",
       "      <td> 16.791</td>\n",
       "      <td> 18.741</td>\n",
       "    </tr>\n",
       "    <tr>\n",
       "      <th>2</th>\n",
       "      <td>  9.564</td>\n",
       "      <td> 21.214</td>\n",
       "    </tr>\n",
       "    <tr>\n",
       "      <th>3</th>\n",
       "      <td>  8.630</td>\n",
       "      <td> 15.687</td>\n",
       "    </tr>\n",
       "    <tr>\n",
       "      <th>4</th>\n",
       "      <td> 14.669</td>\n",
       "      <td> 22.803</td>\n",
       "    </tr>\n",
       "  </tbody>\n",
       "</table>\n",
       "</div>"
      ],
      "text/plain": [
       "   Congruent  Incongruent\n",
       "0     12.079       19.278\n",
       "1     16.791       18.741\n",
       "2      9.564       21.214\n",
       "3      8.630       15.687\n",
       "4     14.669       22.803"
      ]
     },
     "execution_count": 2,
     "metadata": {},
     "output_type": "execute_result"
    }
   ],
   "source": [
    "# importing the csv file into a pandas dataframe\n",
    "import pandas as pd\n",
    "\n",
    "filename = 'stroopdata.csv'\n",
    "\n",
    "stroop_data = pd.read_csv(filename)\n",
    "# taking a peek at the data\n",
    "stroop_data.head()"
   ]
  },
  {
   "cell_type": "markdown",
   "metadata": {},
   "source": [
    "Taking a look at descriptive statistics for the dataset."
   ]
  },
  {
   "cell_type": "code",
   "execution_count": 3,
   "metadata": {
    "collapsed": false
   },
   "outputs": [
    {
     "data": {
      "text/html": [
       "<div style=\"max-height:1000px;max-width:1500px;overflow:auto;\">\n",
       "<table border=\"1\" class=\"dataframe\">\n",
       "  <thead>\n",
       "    <tr style=\"text-align: right;\">\n",
       "      <th></th>\n",
       "      <th>Congruent</th>\n",
       "      <th>Incongruent</th>\n",
       "    </tr>\n",
       "  </thead>\n",
       "  <tbody>\n",
       "    <tr>\n",
       "      <th>count</th>\n",
       "      <td> 24.000000</td>\n",
       "      <td> 24.000000</td>\n",
       "    </tr>\n",
       "    <tr>\n",
       "      <th>mean</th>\n",
       "      <td> 14.051125</td>\n",
       "      <td> 22.015917</td>\n",
       "    </tr>\n",
       "    <tr>\n",
       "      <th>std</th>\n",
       "      <td>  3.559358</td>\n",
       "      <td>  4.797057</td>\n",
       "    </tr>\n",
       "    <tr>\n",
       "      <th>min</th>\n",
       "      <td>  8.630000</td>\n",
       "      <td> 15.687000</td>\n",
       "    </tr>\n",
       "    <tr>\n",
       "      <th>25%</th>\n",
       "      <td> 11.895250</td>\n",
       "      <td> 18.716750</td>\n",
       "    </tr>\n",
       "    <tr>\n",
       "      <th>50%</th>\n",
       "      <td> 14.356500</td>\n",
       "      <td> 21.017500</td>\n",
       "    </tr>\n",
       "    <tr>\n",
       "      <th>75%</th>\n",
       "      <td> 16.200750</td>\n",
       "      <td> 24.051500</td>\n",
       "    </tr>\n",
       "    <tr>\n",
       "      <th>max</th>\n",
       "      <td> 22.328000</td>\n",
       "      <td> 35.255000</td>\n",
       "    </tr>\n",
       "  </tbody>\n",
       "</table>\n",
       "</div>"
      ],
      "text/plain": [
       "       Congruent  Incongruent\n",
       "count  24.000000    24.000000\n",
       "mean   14.051125    22.015917\n",
       "std     3.559358     4.797057\n",
       "min     8.630000    15.687000\n",
       "25%    11.895250    18.716750\n",
       "50%    14.356500    21.017500\n",
       "75%    16.200750    24.051500\n",
       "max    22.328000    35.255000"
      ]
     },
     "execution_count": 3,
     "metadata": {},
     "output_type": "execute_result"
    }
   ],
   "source": [
    "stroop_stats = stroop_data.describe()\n",
    "stroop_stats"
   ]
  },
  {
   "cell_type": "code",
   "execution_count": 4,
   "metadata": {
    "collapsed": false
   },
   "outputs": [
    {
     "data": {
      "text/html": [
       "<div style=\"max-height:1000px;max-width:1500px;overflow:auto;\">\n",
       "<table border=\"1\" class=\"dataframe\">\n",
       "  <thead>\n",
       "    <tr style=\"text-align: right;\">\n",
       "      <th></th>\n",
       "      <th>Congruent</th>\n",
       "      <th>Incongruent</th>\n",
       "    </tr>\n",
       "  </thead>\n",
       "  <tbody>\n",
       "    <tr>\n",
       "      <th>count</th>\n",
       "      <td> 24.000000</td>\n",
       "      <td> 24.000000</td>\n",
       "    </tr>\n",
       "    <tr>\n",
       "      <th>mean</th>\n",
       "      <td> 14.051125</td>\n",
       "      <td> 22.015917</td>\n",
       "    </tr>\n",
       "    <tr>\n",
       "      <th>std</th>\n",
       "      <td>  3.559358</td>\n",
       "      <td>  4.797057</td>\n",
       "    </tr>\n",
       "    <tr>\n",
       "      <th>min</th>\n",
       "      <td>  8.630000</td>\n",
       "      <td> 15.687000</td>\n",
       "    </tr>\n",
       "    <tr>\n",
       "      <th>25%</th>\n",
       "      <td> 11.895250</td>\n",
       "      <td> 18.716750</td>\n",
       "    </tr>\n",
       "    <tr>\n",
       "      <th>50%</th>\n",
       "      <td> 14.356500</td>\n",
       "      <td> 21.017500</td>\n",
       "    </tr>\n",
       "    <tr>\n",
       "      <th>75%</th>\n",
       "      <td> 16.200750</td>\n",
       "      <td> 24.051500</td>\n",
       "    </tr>\n",
       "    <tr>\n",
       "      <th>max</th>\n",
       "      <td> 22.328000</td>\n",
       "      <td> 35.255000</td>\n",
       "    </tr>\n",
       "    <tr>\n",
       "      <th>range</th>\n",
       "      <td> 13.698000</td>\n",
       "      <td> 19.568000</td>\n",
       "    </tr>\n",
       "  </tbody>\n",
       "</table>\n",
       "</div>"
      ],
      "text/plain": [
       "       Congruent  Incongruent\n",
       "count  24.000000    24.000000\n",
       "mean   14.051125    22.015917\n",
       "std     3.559358     4.797057\n",
       "min     8.630000    15.687000\n",
       "25%    11.895250    18.716750\n",
       "50%    14.356500    21.017500\n",
       "75%    16.200750    24.051500\n",
       "max    22.328000    35.255000\n",
       "range  13.698000    19.568000"
      ]
     },
     "execution_count": 4,
     "metadata": {},
     "output_type": "execute_result"
    }
   ],
   "source": [
    "# adding 'range' as a second measure of variability\n",
    "range_c = stroop_stats.Congruent['max'] - stroop_stats.Congruent['min']\n",
    "range_ic = stroop_stats.Incongruent['max'] - stroop_stats.Incongruent['min']\n",
    "\n",
    "range_df = pd.DataFrame({'Congruent' : pd.Series(range_c, index=['range']), \n",
    "                         'Incongruent' : pd.Series(range_ic, index=['range'])})\n",
    "\n",
    "stroop_stats = stroop_stats.append(range_df)\n",
    "stroop_stats"
   ]
  },
  {
   "cell_type": "markdown",
   "metadata": {},
   "source": [
    "#### Measures of Central Tendency\n",
    "\n",
    "The **mean**, as a measure of central tendency, lies at 14 for the _congruent_ and at 22 for the _incongruent_ condition.\n",
    "\n",
    "#### Measures of Variability\n",
    "\n",
    "The **standard deviation** for the _congruent_ condition is 3.6, and for the incongruent condition it is 4.8. This means, that the data points in the incongruent condition group have a wider distribution.\n",
    "\n",
    "This also comes to be visible when looking at the **range**s of the different columns: c = 13.7, ic = 19.6 - The range of the incongruent condition is wider, which means that the data is more spread out."
   ]
  },
  {
   "cell_type": "markdown",
   "metadata": {},
   "source": [
    "### 4. Provide one or two visualizations that show the distribution of the sample data. Write one or two sentences noting what you observe about the plot or plots."
   ]
  },
  {
   "cell_type": "code",
   "execution_count": 5,
   "metadata": {
    "collapsed": false
   },
   "outputs": [
    {
     "data": {
      "image/png": "[encoded data removed]",
      "text/plain": [
       "<matplotlib.figure.Figure at 0x10c877bd0>"
      ]
     },
     "metadata": {},
     "output_type": "display_data"
    }
   ],
   "source": [
    "%matplotlib inline\n",
    "import numpy\n",
    "import matplotlib.pyplot as plt\n",
    "\n",
    "x = stroop_data.Congruent\n",
    "y = stroop_data.Incongruent\n",
    "bins = 10\n",
    "\n",
    "plt.hist(x, bins, alpha=0.5, label='Congruent')\n",
    "plt.hist(y, bins, alpha=0.5, label='Incongruent')\n",
    "plt.legend(loc='upper right')\n",
    "plt.xlabel('time in seconds')\n",
    "plt.ylabel('participants')\n",
    "plt.title(\"comparing the congruent and incongruent words condition\")\n",
    "plt.grid(True)\n",
    "plt.show()"
   ]
  },
  {
   "cell_type": "markdown",
   "metadata": {},
   "source": [
    "Looking at the histogram for the two samples in the different conditions on the same axis, shows that in the _incongruent words condition_ the participants used to take generally longer to name the ink colors than in the _congruent words condition_.\n",
    "\n",
    "A normal distribution for the plots of the sample is not entirely evident, however, since this is such a small dataset, it would be difficult to actually prove one.\n",
    "\n",
    "Looking at this visualization makes it seem likely, that the alternative Hypothesis might be on the right path with its suggestion. However, we did not perform a statistical test yet, so the result is just a preview, not a conclusion."
   ]
  },
  {
   "cell_type": "markdown",
   "metadata": {},
   "source": [
    "### 5. Now, perform the statistical test and report your results. What is your confidence level and your critical statistic value? Do you reject the null hypothesis or fail to reject it? Come to a conclusion in terms of the experiment task. Did the results match up with your expectations?"
   ]
  },
  {
   "cell_type": "code",
   "execution_count": 6,
   "metadata": {
    "collapsed": false
   },
   "outputs": [
    {
     "name": "stdout",
     "output_type": "stream",
     "text": [
      "results of the two-tailed dependent t-test: (array(-8.020706944109959), 4.1030005857111556e-08)\n",
      "p-value for the two-tailed dependent t-test: 0.0000000410\n"
     ]
    }
   ],
   "source": [
    "# using the scipy module for performing the two-tailed dependent t-test and for p-value calculations\n",
    "from scipy.stats import ttest_rel\n",
    "\n",
    "cong_values = stroop_data['Congruent'].values\n",
    "incong_values = stroop_data['Incongruent'].values\n",
    "\n",
    "# I chose the 'two-tailed dependent t-test' according to the description in the module:\n",
    "# http://docs.scipy.org/doc/scipy/reference/generated/scipy.stats.ttest_rel.html#scipy.stats.ttest_rel\n",
    "t_test_results = ttest_rel(cong_values, incong_values)\n",
    "print \"results of the two-tailed dependent t-test:\", t_test_results\n",
    "\n",
    "# formatting the p-value to be more intuitive\n",
    "p_value = format(t_test_results[1], '.10f')\n",
    "print 'p-value for the two-tailed dependent t-test:', p_value"
   ]
  },
  {
   "cell_type": "markdown",
   "metadata": {},
   "source": [
    "The **degrees of freedom** calculate as follows:\n",
    "\n",
    "$$df = n-1$$"
   ]
  },
  {
   "cell_type": "code",
   "execution_count": 7,
   "metadata": {
    "collapsed": false
   },
   "outputs": [
    {
     "name": "stdout",
     "output_type": "stream",
     "text": [
      "degrees of freedom: 23\n"
     ]
    }
   ],
   "source": [
    "n = 24\n",
    "df = n - 1\n",
    "print 'degrees of freedom:', df"
   ]
  },
  {
   "cell_type": "code",
   "execution_count": 8,
   "metadata": {
    "collapsed": false
   },
   "outputs": [
    {
     "name": "stdout",
     "output_type": "stream",
     "text": [
      "RESULTS: paired t(23) = 8.02070694411, p = 0.0000000410\n"
     ]
    }
   ],
   "source": [
    "print 'RESULTS: paired t({0}) = {1}, p = {2}'.format(df, abs(t_test_results[0]), p_value)"
   ]
  },
  {
   "cell_type": "markdown",
   "metadata": {},
   "source": [
    "As we can see from comparing the calculated results of the t-value to [this table](http://www.uwe.ac.uk/hlss/llas/statistics-in-linguistics/Appenix1.pdf) (Table A3), the t-value is clearly above the **critical t-value** for the commonly used p-value of 0.05 for the two-tailed dependent t-test.\n",
    "$$8.02 > 2.069$$\n",
    "Therefore the differences between the two conditions can be considered _statistically relevant_.\n",
    "\n",
    "With the t-value being acutally so much lower than the critical value, this means that the probability that eventual differences between the two tested conditions are due to chance, is below 0.01%, considering the critical t-values present in the table.\n",
    "\n",
    "Since the t-value is **negative**:"
   ]
  },
  {
   "cell_type": "code",
   "execution_count": 9,
   "metadata": {
    "collapsed": false
   },
   "outputs": [
    {
     "name": "stdout",
     "output_type": "stream",
     "text": [
      "-8.02070694411\n"
     ]
    }
   ],
   "source": [
    "t_value = t_test_results[0]\n",
    "print t_value"
   ]
  },
  {
   "cell_type": "markdown",
   "metadata": {},
   "source": [
    "the significance of the result can be found on the _negative_ side of the normal distribution."
   ]
  },
  {
   "cell_type": "markdown",
   "metadata": {},
   "source": [
    "The **confidence interval** in this analysis is at 95%. All the results for both of the conditions were taken from the same sample population.\n",
    "\n",
    "---"
   ]
  },
  {
   "cell_type": "markdown",
   "metadata": {},
   "source": [
    "### Conclusion\n",
    "\n",
    "Considering the results of the statistical test, I reject \\($H_{0}$\\), the Null-Hypothesis, and \\($H_{2}$\\), the second alternative Hypothesis, in favor of \\($H_{1}$\\), the first alternative Hypothesis. \n",
    "This is because the results _showed a statistical significance_, while pointing to the _negative_ side of the normal distribution.\n",
    "Therefore the analysis of the data leads to the conclusion, that it takes **significantly longer** to identify the ink colors when the names displayed differ from the name of the ink color (incongruent names condition).\n",
    "\n",
    "This is the result that I expected. However, my (very vague) assumption as to why this is the case seems to be incorrect. I thought that this lag is a result from different types of information being processed in different parts of the brain. Even though this might not be completely wrong, there are actually a few theories as to why the Stroop effect occurs:\n",
    "\n",
    "- **Selective attention**: proposes that recognizing colors requires more attention than reading words.\n",
    "- **Automaticity**: We're just way more used to reading than to naming colors, so our brain aims on doing that first.\n",
    "- **Parallel distributed processing**: Which is a bit of a similar theory (and sounds tech-related ; ) - that the brain uses different paths to process different things. The one for reading is strongly developed, while naming colors is not as much. So the trained \"muscle\" is stronger than the less used one.\n",
    "- **Processing speed**: All theories are a bit related, maybe: this one says that word processing is simply faster than recognizing colors.\n",
    "\n",
    "So, all the different theories I read about that aim to explain the Stroop effect do have some things in common it feels, and I found this sentence on the associated Wikipedia page, that I find very interesting:\n",
    "\n",
    ">There are several theories used to explain the Stroop effect and are commonly known as ‘race models’. This is based on the underlying notion that both relevant and irrelevant information are processed in parallel, but “race” to enter the single central processor during response selection.\n"
   ]
  },
  {
   "cell_type": "markdown",
   "metadata": {},
   "source": [
    "### 6. Optional: What do you think is responsible for the effects observed? Can you think of an alternative or similar task that would result in a similar effect? Some research about the problem will be helpful for thinking about these two questions!\n",
    "\n",
    "Personally, I would add to the explanation very essentially the fact, that it's not just about _recognizing_ the colors, but also about _naming_ them.\n",
    "Reading the article, I felt that this is not enough in focus. Because the imminence of formulating something when we are reading it is in my opinion much closer and higher than when looking at a color.\n",
    "\n",
    "Through our days we often look at colors without ever having the thought of wording this to someone (or even ourselves). Reading, however, is very similar to speaking - therefore I think that the path between reading and formulating is a much more direct one than the one between seeing a color and speaking its name.\n",
    "\n",
    "#### Experiments that might yield similar results\n",
    "\n",
    "Since my theory to explain the Stroop effect has maybe a little different aspect than the ones mentioned above, I would try to look for similar situations where the **way of responding** is very much tied to the stimulus received.\n",
    "\n",
    ": )\n",
    "\n",
    "Okay, maybe it's a bit farfetched, but I'll try that one:\n",
    "\n",
    "- Participants are put into a spot where they are comfortably able to catch a thing falling by them.\n",
    "- In one part of the experiment, they are asked to catch those that would break when hitting the floor (e.g. an egg), and let those pass that would not (e.g. a small ball). The size of the objects should be similar, and the participants would know in advance which sorts of items they can expect to turn up, in order to remove some element of surprise).\n",
    "- In the second part of the experiment, they are asked to formulate whether the object will break or not, while they see it falling by\n",
    "- In both cases the response times are recorded and compared.\n",
    "\n",
    "I would find such an experimental set-up interesting, because I can imagine that there is a stronger stimulus-response connection between _a falling object_ and a _physical reaction_ (e.g. trying to catch it), than there is between _a falling object_ and a spoken response.\n",
    "\n",
    "With this set-up I'd aim on assessing whether there might be a similar \"lag\" as there is in the Stroop effect, and then I'd try to research further whether it might be related to the specific _type_ of response to a specific _type_ of stimulus."
   ]
  },
  {
   "cell_type": "markdown",
   "metadata": {
    "collapsed": true
   },
   "source": [
    "## Resources\n",
    "\n",
    "**Stroop-effect**:\n",
    "\n",
    "- https://faculty.washington.edu/chudler/words.html#seffect\n",
    "- https://en.wikipedia.org/wiki/Stroop_effect\n",
    "- https://docs.google.com/document/d/1-OkpZLjG_kX9J6LIQ5IltsqMzVWjh36QpnP2RYpVdPU/pub?embedded=True\n",
    "\n",
    "**statistics**:\n",
    "\n",
    "- https://statistics.laerd.com/statistical-guides/measures-central-tendency-mean-mode-median.php\n",
    "- http://stattrek.com/statistics/dictionary.aspx?definition=confidence_level\n",
    "- http://stattrek.com/statistics/dictionary.aspx?definition=Confidence_interval\n",
    "- http://support.minitab.com/en-us/minitab/17/topic-library/basic-statistics-and-graphs/hypothesis-tests/basics/directional-and-nondirectional-hypotheses/\n",
    "- http://www2.le.ac.uk/offices/ld/resources/numerical-data/variability\n",
    "\n",
    "**t-tests**: \n",
    "\n",
    "- http://www.andrewgray.com/teachers/ttests.htm\n",
    "- https://explorable.com/students-t-test\n",
    "- http://docs.scipy.org/doc/scipy/reference/generated/scipy.stats.ttest_rel.html#scipy.stats.ttest_rel\n",
    "- http://stackoverflow.com/questions/13404468/t-test-in-pandas-python\n",
    "- http://mathforum.org/library/drmath/view/65472.html\n",
    "- https://explorable.com/students-t-test\n",
    "- http://support.minitab.com/en-us/minitab/17/topic-library/basic-statistics-and-graphs/hypothesis-tests/basics/null-and-alternative-hypotheses/\n",
    "- http://www.statisticshowto.com/when-to-use-a-t-score-vs-z-score/\n",
    "- https://en.wikipedia.org/wiki/Student%27s_t-test#Unpaired_and_paired_two-sample_t-tests\n",
    "- https://www.quora.com/How-can-one-interpret-a-negative-t-value-in-a-student-test-p-value-is-very-low\n",
    "- http://www.csic.cornell.edu/Elrod/t-test/reporting-t-test.html\n",
    "- http://www.statstutor.ac.uk/resources/uploaded/paired-t-test.pdf\n",
    "- http://www.psychstat.missouristate.edu/introbook/sbk25.htm\n",
    "- http://www.uwe.ac.uk/hlss/llas/statistics-in-linguistics/Appenix1.pdf\n",
    "- http://www.statstutor.ac.uk/resources/uploaded/paired-t-test.pdf\n",
    "\n",
    "**python**:\n",
    "\n",
    "- http://stackoverflow.com/questions/25099626/python-convert-scientific-notation-to-float\n",
    "\n",
    "**visualization**:\n",
    "\n",
    "- http://pandas.pydata.org/pandas-docs/stable/visualization.html\n",
    "- http://pandas.pydata.org/pandas-docs/version/0.13.1/visualization.html\n",
    "- http://matplotlib.org/users/pyplot_tutorial.html\n",
    "- http://stackoverflow.com/questions/6871201/plot-two-histograms-at-the-same-time-with-matplotlib\n",
    "\n",
    "**project in general:**\n",
    "- https://plus.google.com/116200524496674111624/posts/F68xv6ytMHm (thanks for sharing! :)"
   ]
  },
  {
   "cell_type": "code",
   "execution_count": null,
   "metadata": {
    "collapsed": true
   },
   "outputs": [],
   "source": []
  }
 ],
 "metadata": {
  "kernelspec": {
   "display_name": "Python 2",
   "language": "python",
   "name": "python2"
  },
  "language_info": {
   "codemirror_mode": {
    "name": "ipython",
    "version": 2
   },
   "file_extension": ".py",
   "mimetype": "text/x-python",
   "name": "python",
   "nbconvert_exporter": "python",
   "pygments_lexer": "ipython2",
   "version": "2.7.10"
  }
 },
 "nbformat": 4,
 "nbformat_minor": 0
}
